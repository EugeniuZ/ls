{
 "cells": [
  {
   "cell_type": "markdown",
   "metadata": {},
   "source": [
    "# Signifinace Tests"
   ]
  },
  {
   "cell_type": "markdown",
   "metadata": {},
   "source": [
    "A significance test answers the question: what is the probability that a sample comes from a population. If the probability is low we can conclude that it is unlikely that the sample belongs to that population. However, if the probability is high it doesn't mean it is from the same population, we just didn't prove it isn't. We can never prove it is.\n",
    "By convention the following probability levels were chosen:\n",
    "\n",
    "* \\> 5% nlikelyhood that the sample could have been drawn by chance from the population is high and therefore we can't say anything about the relationship between the 2\n",
    "* 1% < x < 5% - the sample probably doesn't belong to population\n",
    "* < 1% - the sample is very likely to belong to another population \n",
    "\n",
    "**Based on \"Practical Statistics - Simply Explained\" by Russel Langley**"
   ]
  },
  {
   "cell_type": "markdown",
   "metadata": {},
   "source": [
    "## zM Test (1733)"
   ]
  },
  {
   "cell_type": "code",
   "execution_count": 1,
   "metadata": {},
   "outputs": [],
   "source": [
    "zm <- function(sample, population_mean, population_sd, sides=2) {\n",
    "    result <- abs(mean(sample) - population_mean) * sqrt(length(sample)) / population_sd\n",
    "    return(100 * pnorm(result, lower.tail=FALSE) * sides)\n",
    "}\n",
    "# note the use of 2-sided probabilities by default because we ask whether there is a\n",
    "# difference in result, not whether the difference is smaller or greater \n",
    "# (we use absolute value calculation) "
   ]
  },
  {
   "cell_type": "code",
   "execution_count": 2,
   "metadata": {},
   "outputs": [
    {
     "name": "stdout",
     "output_type": "stream",
     "text": [
      "Prob(metal=gold)=0.006334%"
     ]
    }
   ],
   "source": [
    "# Problem 1: \n",
    "# Gold melts at 1060, assume a sd of 3 degrees obtained by running many melting experiments.\n",
    "# An unknown metal was found out to melt at 1072. \n",
    "# What is the probability that the metal is gold ?\n",
    "\n",
    "cat(sprintf('Prob(metal=gold)=%.6f%%', zm(1072, 1060, 3)))"
   ]
  },
  {
   "cell_type": "code",
   "execution_count": 3,
   "metadata": {},
   "outputs": [
    {
     "name": "stdout",
     "output_type": "stream",
     "text": [
      "Prob(disease causes higher pulse rate)=0.014780%"
     ]
    }
   ],
   "source": [
    "# Problem 2:\n",
    "# 40 patients with a certain disease have a mean pulse rate of 73\n",
    "# Mean pulse rate for healthy people = 70 with an sd = 5\n",
    "# How likely the increased pulse rate is due to illness and not just a random variation of a set of healthy people ?\n",
    "\n",
    "cat(sprintf('Prob(disease causes higher pulse rate)=%.6f%%', zm(rep(73, 40), 70, 5)))\n",
    "\n",
    "# Pulse rate is statistically significant but not practically significant (only 3 extra beats per minute)."
   ]
  },
  {
   "cell_type": "code",
   "execution_count": 4,
   "metadata": {},
   "outputs": [
    {
     "name": "stdout",
     "output_type": "stream",
     "text": [
      "Prob(metal=copper)=10.959858%\n",
      "Prob(metal=copper)=0.137428%"
     ]
    }
   ],
   "source": [
    "# Problem 3:\n",
    "# Copper melts at 1080 degrees with an sd = 5.\n",
    "# How likely that metal from Problem 1 is copper ?\n",
    "\n",
    "cat(sprintf('Prob(metal=copper)=%.6f%%\\n', zm(1072, 1080, 5)))\n",
    "\n",
    "# and if we retest the melting temperature of the unknown metal ?\n",
    "cat(sprintf('Prob(metal=copper)=%.6f%%', zm(c(1072, 1071, 1072, 1073), 1080, 5)))"
   ]
  },
  {
   "cell_type": "markdown",
   "metadata": {},
   "source": [
    "## Student's _t_ Test (1908)"
   ]
  },
  {
   "cell_type": "code",
   "execution_count": 5,
   "metadata": {},
   "outputs": [
    {
     "name": "stdout",
     "output_type": "stream",
     "text": [
      "Possible values for the mean of a 3-item sample with confidence interval 0.95 %: [44.5158622882497, 49.4841377117503]\n",
      "p-value for current sample: 0.0741799002274485\n"
     ]
    }
   ],
   "source": [
    "# same formula as for zM test with 2 exceptions:\n",
    "# 1. The standard deviation of the sample is used (sd of the population is unknown)\n",
    "# 2. Obtaining the p-value from the result depends on the sample size (so is like p-values for z \n",
    "# but different values, depending on sample size -> smaller the sample the larger the z value for \n",
    "# the same p-value)\n",
    "\n",
    "# Problem 1:\n",
    "# A printing press can make 45 copies per minute\n",
    "# After an adjustment to increase its throughput we obtain: 46, 47, 48 copies per minute.\n",
    "# How likely the change is due to random variation rather than the effect of adjustment ?\n",
    "\n",
    "result <- t.test(x=c(46, 47, 48), mu=45, conf.level=0.95);\n",
    "cat(\n",
    "    sprintf(\n",
    "        'Possible values for the mean of a 3-item sample with confidence interval %s %%: [%s]\\np-value for current sample: %s\\n', \n",
    "        attr(result$conf.int, 'conf.level'),\n",
    "        toString(result$conf.int),\n",
    "        result$p.value\n",
    "    )\n",
    ")"
   ]
  },
  {
   "cell_type": "code",
   "execution_count": 6,
   "metadata": {},
   "outputs": [
    {
     "name": "stdout",
     "output_type": "stream",
     "text": [
      "Possible values for the mean for the 5-item sample with confidence interval 0.95 %: [46.1220109669149, 47.8779890330851]\n",
      "p-value for current sample: 0.00319820215233531\n"
     ]
    }
   ],
   "source": [
    "# Problem 2:\n",
    "# If the next 2 trials in Problem 1 yield: 47, 47 how is the p-value changing ?\n",
    "result <- t.test(x=c(46, 47, 48, 47, 47), mu=45, conf.level=0.95);\n",
    "cat(\n",
    "    sprintf(\n",
    "        'Possible values for the mean for the 5-item sample with confidence interval %s %%: [%s]\\np-value for current sample: %s\\n', \n",
    "        attr(result$conf.int, 'conf.level'),\n",
    "        toString(result$conf.int),\n",
    "        result$p.value\n",
    "    )\n",
    ")\n",
    "\n",
    "# note the second confidence interval does not intersect with the true mean -> variation is very likely\n",
    "# due to improvement rather than chance."
   ]
  },
  {
   "cell_type": "code",
   "execution_count": 7,
   "metadata": {},
   "outputs": [
    {
     "name": "stdout",
     "output_type": "stream",
     "text": [
      "Possible values for the mean for the 4-item sample with confidence interval 0.95 %: [49.2317619603331, 65.7682380396669]\n",
      "p-value for current sample: 0.0353301023027491\n"
     ]
    }
   ],
   "source": [
    "# Problem 3:\n",
    "# Between 1945 and 1962 the telephone bill of a CEO averaged $48 per year. \n",
    "# With the new secretary the values were: $56, $51, $63, $60\n",
    "# Should the secretary be fired for over-using the phone ?\n",
    "result <- t.test(x=c(56, 51, 63, 60), mu=48, conf.level=0.95);\n",
    "cat(\n",
    "    sprintf(\n",
    "        'Possible values for the mean for the 4-item sample with confidence interval %s %%: [%s]\\np-value for current sample: %s\\n', \n",
    "        attr(result$conf.int, 'conf.level'),\n",
    "        toString(result$conf.int),\n",
    "        result$p.value\n",
    "    )\n",
    ")\n",
    "# Probably yes, unless the phone service became more expensive on its own."
   ]
  },
  {
   "cell_type": "code",
   "execution_count": 8,
   "metadata": {},
   "outputs": [
    {
     "name": "stdout",
     "output_type": "stream",
     "text": [
      "Everyone got the almost the same income [18456, 18554] (sd=29.1547594742265): confidence interval 0.95 %: [18496.7143090347, 18513.2856909653]\n",
      "p-value for current sample: 1.90805983449625e-92\n",
      "Everyone got the different incomes [3805, 33205] (sd=8746.42784226795): confidence interval 0.95 %: [16019.2927104071, 20990.7072895929]\n",
      "p-value for current sample: 0.103025307777696\n"
     ]
    }
   ],
   "source": [
    "# Problem 4:\n",
    "# The average income of a popultion is $20560\n",
    "# A random sample of 49 people from a neighbour region is 18505\n",
    "# Is the difference statistically significant ?\n",
    "\n",
    "# Not enough info -> standard deviation of the sample is not known.\n",
    "\n",
    "sample1 <- seq(from=18505-49, to=18505+49, by=2)\n",
    "result <- t.test(x=sample1, mu=20560, conf.level=0.95);\n",
    "cat(\n",
    "    sprintf(\n",
    "        'Everyone got the almost the same income [%s, %s] (sd=%s): confidence interval %s %%: [%s]\\np-value for current sample: %s\\n', \n",
    "        min(sample1), max(sample1),\n",
    "        sd(sample1),\n",
    "        attr(result$conf.int, 'conf.level'),\n",
    "        toString(result$conf.int),\n",
    "        result$p.value\n",
    "    )\n",
    ")\n",
    "\n",
    "sample2 <- seq(from=18505-49*300, to=18505+49*300, by=600)\n",
    "result <- t.test(x=sample2, mu=20560, conf.level=0.95);\n",
    "cat(\n",
    "    sprintf(\n",
    "        'Everyone got the different incomes [%s, %s] (sd=%s): confidence interval %s %%: [%s]\\np-value for current sample: %s\\n', \n",
    "        min(sample2), max(sample2),\n",
    "        sd(sample2),\n",
    "        attr(result$conf.int, 'conf.level'),\n",
    "        toString(result$conf.int),\n",
    "        result$p.value\n",
    "    )\n",
    ")"
   ]
  },
  {
   "cell_type": "markdown",
   "metadata": {},
   "source": [
    "## Wilcoxon's Sum of Ranks Test (1945)"
   ]
  },
  {
   "cell_type": "code",
   "execution_count": 9,
   "metadata": {},
   "outputs": [],
   "source": [
    "# Compare 2 samples of measurements with the assumption that they come from 2 populations with equal means.\n",
    "# Instead of using the values of measurements we rank them in order and based on the smallest\n",
    "# sum of ranks determine the probability of obtaining that sum due to chance.\n",
    "\n",
    "# Instead of determining the probability of the parent groups having the same mean, we could determine\n",
    "# the probability of the sample groups having the same standard deviation. For that we need to rank differently.\n",
    "# We use the Siegel and Tukey's \"paired alternation\" of ranking: \n",
    "# * smallest measurement - rank 1\n",
    "# * largest measurement and second largest - rank 2 and 3\n",
    "# * second and third smallest measurements - rank 4 and 5\n",
    "# * ...\n",
    "# This way the extreme values get the smaller ranks. To increase the accuracy of the Siegel-Tukey test\n",
    "# you need to make the means of the samples equal (e.g. add the difference between the means to the sample with smaller mean).\n",
    "\n",
    "# The test can be applied for any probability distribution.\n",
    "\n",
    "# Ranking should be made in both directions (smallest to largest and largest to smallest)\n",
    "# if number of measurements in the 2 samples are not equal and both are smaller than 20.\n",
    "# You need to pick the smallest sum of ranks from the 4 values. Otherwise ranking in a single direction is sufficient."
   ]
  },
  {
   "cell_type": "code",
   "execution_count": 10,
   "metadata": {},
   "outputs": [
    {
     "name": "stdout",
     "output_type": "stream",
     "text": [
      "There is no significant difference in operations on patient recovery: 0.1015,\n",
      "mean1=19.7500, mean2=17.1250"
     ]
    }
   ],
   "source": [
    "# Problem 1:\n",
    "# Examine whether there is a significant different in the recovery times of 2 groups of patients\n",
    "# on which a specific operation to remove the gallbladder is performed.\n",
    "\n",
    "group1 <- c(16,20,25,19,22,15,22,19)\n",
    "group2 <- c(18,19,15,16,21,17,17,14)\n",
    "\n",
    "w <- wilcox.test(group1, group2, exact=FALSE, conf.int=0.95)  # exact=FALSE turns off the warning when measurements with equal values are present\n",
    "# in general ties make the test less accurate.\n",
    "\n",
    "cat(\n",
    "    sprintf(\n",
    "        'There is no significant difference in operations on patient recovery: %.4f,\\nmean1=%.4f, mean2=%.4f', \n",
    "        w$p.value, \n",
    "        mean(group1),\n",
    "        mean(group2)\n",
    "    )\n",
    ")\n"
   ]
  },
  {
   "cell_type": "code",
   "execution_count": 11,
   "metadata": {},
   "outputs": [
    {
     "name": "stdout",
     "output_type": "stream",
     "text": [
      "There is no significant difference in number of ads between the stations: 0.1337,\n",
      "mean1=331.6000, mean2=360.3333\n",
      "\n",
      "There is no significant difference in number of ads between the stations: 0.1041,\n",
      "mean1=331.6000, mean2=360.3333\n",
      "The value of the t-test is more precise but does not change the overall conclusion."
     ]
    }
   ],
   "source": [
    "# Problem 2:\n",
    "# A man recorded the number of advertisments in 2 radio stations. Is there sufficient evidence that\n",
    "# one station airs more ads than the other ?\n",
    "station1 <- c(341, 326, 360, 305, 326)\n",
    "station2 <- c(352, 382, 347)\n",
    "\n",
    "w <- wilcox.test(station1, station2, exact=FALSE)\n",
    "cat(\n",
    "    sprintf(\n",
    "        'There is no significant difference in number of ads between the stations: %.4f,\\nmean1=%.4f, mean2=%.4f', \n",
    "        w$p.value, \n",
    "        mean(station1),\n",
    "        mean(station2)\n",
    "    )\n",
    ")\n",
    "\n",
    "cat(sprintf('\\n\\n'))\n",
    "\n",
    "t <- t.test(x=station1, y=station2, mu=0)  # mu is the difference of means -> i.e. no difference\n",
    "\n",
    "cat(\n",
    "    sprintf(\n",
    "        'There is no significant difference in number of ads between the stations: %.4f,\\nmean1=%.4f, mean2=%.4f', \n",
    "        t$p.value, \n",
    "        mean(station1),\n",
    "        mean(station2)\n",
    "    )\n",
    ")\n",
    "\n",
    "cat(sprintf('\\nThe value of the t-test is more precise but does not change the overall conclusion.'))\n"
   ]
  },
  {
   "cell_type": "code",
   "execution_count": 12,
   "metadata": {},
   "outputs": [
    {
     "name": "stderr",
     "output_type": "stream",
     "text": [
      "Loading required package: jmuOutlier\n"
     ]
    },
    {
     "name": "stdout",
     "output_type": "stream",
     "text": [
      "Probability that the 2 stations are consistent in playing ads: 0.6964\n",
      "sd1=20.4034, sd2=18.9297"
     ]
    }
   ],
   "source": [
    "# Perform the Siegel-Tukey test on data in Problem 2 to determine whether there is a significant\n",
    "# difference in dispersions of the samples.\n",
    "\n",
    "if(!require(jmuOutlier)) {\n",
    "    install.packages(\"jmuOutlier\"); require(jmuOutlier)\n",
    "}\n",
    "\n",
    "siegel_tukey <- function(x, y){\n",
    "    m1 <- mean(x)\n",
    "    m2 <- mean(y)\n",
    "    if (m1 < m2){\n",
    "        x <- x + (m2 - m1)\n",
    "    }\n",
    "    else {\n",
    "        y <- y + (m2 - m1)\n",
    "    }\n",
    "    if (length(x) != length(y) && length(x) < 20 && length(y) < 20) {\n",
    "        s1 <- siegel.test(x, y, reverse=FALSE)\n",
    "        s2 <- siegel.test(x, y, reverse=TRUE)\n",
    "        if (min(c(sum(s1$rank.x), sum(s1$rank.y))) < min(c(sum(s2$rank.x), sum(s2$rank.y)))){\n",
    "            s <- s1\n",
    "        }\n",
    "        else {\n",
    "            s <- s2\n",
    "        }\n",
    "    }\n",
    "    else {\n",
    "        s <- siegel.test(x, y)\n",
    "    }\n",
    "    return(s)\n",
    "}\n",
    "\n",
    "s <- siegel_tukey(station1, station2)\n",
    "\n",
    "cat(\n",
    "    sprintf(\n",
    "        'Probability that the 2 stations are consistent in playing ads: %.4f\\nsd1=%.4f, sd2=%.4f',\n",
    "        s$p.value,\n",
    "        sd(station1),\n",
    "        sd(station2)\n",
    "    )\n",
    ")"
   ]
  },
  {
   "cell_type": "code",
   "execution_count": 15,
   "metadata": {},
   "outputs": [
    {
     "name": "stdout",
     "output_type": "stream",
     "text": [
      "There probability of no significant difference between the aeroplane models is: 0.0338 (rank=3.00),\n",
      "mean1=3223.5000, mean2=3494.7500"
     ]
    }
   ],
   "source": [
    "# Problem 3\n",
    "# First sample consists from the number of passangers travelling each week on a certain route.\n",
    "# Second sample represents the same quantity but for another type of aeroplane (with same number of seats\n",
    "# as previous model). Is the second model more popular than the first ?\n",
    "sample1 <- c(3204, 2967, 3053, 3267, 3370, 3492, 3105, 3330)\n",
    "sample2 <- c(3568, 3299, 3618, 3494)\n",
    "w <- wilcox.test(sample1, sample2, exact=FALSE)\n",
    "cat(\n",
    "    sprintf(\n",
    "        'There probability of no significant difference between the aeroplane models is: %.4f (rank=%.2f),\\nmean1=%.4f, mean2=%.4f', \n",
    "        w$p.value,\n",
    "        w$statistic,\n",
    "        mean(sample1),\n",
    "        mean(sample2)\n",
    "    )\n",
    ")"
   ]
  },
  {
   "cell_type": "code",
   "execution_count": 20,
   "metadata": {},
   "outputs": [
    {
     "name": "stdout",
     "output_type": "stream",
     "text": [
      "Probability of no significant difference in weights: 0.0038"
     ]
    }
   ],
   "source": [
    "# Problem 4:\n",
    "# The problem consists in determining whether domestic cats are better fed than stray cats. \n",
    "# There are 30 samples of weights domestic cats and 15 of stray. The smallest rank total is 234.\n",
    "# Is there a significant difference in cat weights ?\n",
    "\n",
    "# Solution\n",
    "# We apply the formula for the case when one sample has 20 or more measurements:\n",
    "wilcox2.test <- function(na, nb, R) {\n",
    "    nr <- min(na, nb)\n",
    "    z <- sqrt(3) * (nr * (na + nb + 1) - 2 * R) / (sqrt(na*nb*(na + nb + 1)))\n",
    "    return(pnorm(z, lower.tail=FALSE))\n",
    "}\n",
    "\n",
    "cat(sprintf('Probability of no significant difference in weights: %.4f', wilcox2.test(30, 15, 234)))"
   ]
  }
 ],
 "metadata": {
  "kernelspec": {
   "display_name": "R",
   "language": "R",
   "name": "ir"
  },
  "language_info": {
   "codemirror_mode": "r",
   "file_extension": ".r",
   "mimetype": "text/x-r-source",
   "name": "R",
   "pygments_lexer": "r",
   "version": "3.5.3"
  }
 },
 "nbformat": 4,
 "nbformat_minor": 2
}
