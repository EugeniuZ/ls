{
 "cells": [
  {
   "cell_type": "markdown",
   "metadata": {},
   "source": [
    "# Signifinace Tests"
   ]
  },
  {
   "cell_type": "markdown",
   "metadata": {},
   "source": [
    "A significance test answers the question: what is the probability that a sample comes from a population. If the probability is low we can conclude that it is unlikely that the sample belongs to that population. However, if the probability is high it doesn't mean it is from the same population, we just didn't prove it isn't. We can never prove it is.\n",
    "By convention the following probability levels were chosen:\n",
    "\n",
    "* \\> 5% likelyhood that the sample could have been drawn by chance from the population is high and therefore we can't say anything about the relationship between the 2\n",
    "* 1% < x < 5% - the sample probably doesn't belong to population\n",
    "* < 1% - the sample is very likely to belong to another population \n",
    "\n",
    "**Based on \"Practical Statistics - Simply Explained\" by Russel Langley**"
   ]
  },
  {
   "cell_type": "markdown",
   "metadata": {},
   "source": [
    "## zM Test (1733)"
   ]
  },
  {
   "cell_type": "code",
   "execution_count": 1,
   "metadata": {},
   "outputs": [],
   "source": [
    "zm <- function(sample, population_mean, population_sd, sides=2) {\n",
    "    result <- abs(mean(sample) - population_mean) * sqrt(length(sample)) / population_sd\n",
    "    return(100 * pnorm(result, lower.tail=FALSE) * sides)\n",
    "}\n",
    "# note the use of 2-sided probabilities by default because we ask whether there is a\n",
    "# difference in result, not whether the difference is smaller or greater \n",
    "# (we use absolute value calculation) "
   ]
  },
  {
   "cell_type": "code",
   "execution_count": 2,
   "metadata": {},
   "outputs": [
    {
     "name": "stdout",
     "output_type": "stream",
     "text": [
      "Prob(metal=gold)=0.006334%"
     ]
    }
   ],
   "source": [
    "# Problem 1: \n",
    "# Gold melts at 1060, assume a sd of 3 degrees obtained by running many melting experiments.\n",
    "# An unknown metal was found out to melt at 1072. \n",
    "# What is the probability that the metal is gold ?\n",
    "\n",
    "cat(sprintf('Prob(metal=gold)=%.6f%%', zm(1072, 1060, 3)))"
   ]
  },
  {
   "cell_type": "code",
   "execution_count": 3,
   "metadata": {},
   "outputs": [
    {
     "name": "stdout",
     "output_type": "stream",
     "text": [
      "Prob(disease causes higher pulse rate)=0.014780%"
     ]
    }
   ],
   "source": [
    "# Problem 2:\n",
    "# 40 patients with a certain disease have a mean pulse rate of 73\n",
    "# Mean pulse rate for healthy people = 70 with an sd = 5\n",
    "# How likely the increased pulse rate is due to illness and not just a random variation of a set of healthy people ?\n",
    "\n",
    "cat(sprintf('Prob(disease causes higher pulse rate)=%.6f%%', zm(rep(73, 40), 70, 5)))\n",
    "\n",
    "# Pulse rate is statistically significant but not practically significant (only 3 extra beats per minute)."
   ]
  },
  {
   "cell_type": "code",
   "execution_count": 4,
   "metadata": {},
   "outputs": [
    {
     "name": "stdout",
     "output_type": "stream",
     "text": [
      "Prob(metal=copper)=10.959858%\n",
      "Prob(metal=copper)=0.137428%"
     ]
    }
   ],
   "source": [
    "# Problem 3:\n",
    "# Copper melts at 1080 degrees with an sd = 5.\n",
    "# How likely that metal from Problem 1 is copper ?\n",
    "\n",
    "cat(sprintf('Prob(metal=copper)=%.6f%%\\n', zm(1072, 1080, 5)))\n",
    "\n",
    "# and if we retest the melting temperature of the unknown metal ?\n",
    "cat(sprintf('Prob(metal=copper)=%.6f%%', zm(c(1072, 1071, 1072, 1073), 1080, 5)))"
   ]
  },
  {
   "cell_type": "markdown",
   "metadata": {},
   "source": [
    "## Student's _t_ Test (1908)"
   ]
  },
  {
   "cell_type": "code",
   "execution_count": 5,
   "metadata": {},
   "outputs": [
    {
     "name": "stdout",
     "output_type": "stream",
     "text": [
      "Possible values for the mean of a 3-item sample with confidence interval 0.95 %: [44.5158622882497, 49.4841377117503]\n",
      "p-value for current sample: 0.0741799002274485\n"
     ]
    }
   ],
   "source": [
    "# same formula as for zM test with 2 exceptions:\n",
    "# 1. The standard deviation of the sample is used (sd of the population is unknown)\n",
    "# 2. Obtaining the p-value from the result depends on the sample size (so is like p-values for z \n",
    "# but different values, depending on sample size -> smaller the sample the larger the z value for \n",
    "# the same p-value)\n",
    "\n",
    "# Problem 1:\n",
    "# A printing press can make 45 copies per minute\n",
    "# After an adjustment to increase its throughput we obtain: 46, 47, 48 copies per minute.\n",
    "# How likely the change is due to random variation rather than the effect of adjustment ?\n",
    "\n",
    "result <- t.test(x=c(46, 47, 48), mu=45, conf.level=0.95);\n",
    "cat(\n",
    "    sprintf(\n",
    "        'Possible values for the mean of a 3-item sample with confidence interval %s %%: [%s]\\np-value for current sample: %s\\n', \n",
    "        attr(result$conf.int, 'conf.level'),\n",
    "        toString(result$conf.int),\n",
    "        result$p.value\n",
    "    )\n",
    ")"
   ]
  },
  {
   "cell_type": "code",
   "execution_count": 6,
   "metadata": {},
   "outputs": [
    {
     "name": "stdout",
     "output_type": "stream",
     "text": [
      "Possible values for the mean for the 5-item sample with confidence interval 0.95 %: [46.1220109669149, 47.8779890330851]\n",
      "p-value for current sample: 0.00319820215233531\n"
     ]
    }
   ],
   "source": [
    "# Problem 2:\n",
    "# If the next 2 trials in Problem 1 yield: 47, 47 how is the p-value changing ?\n",
    "result <- t.test(x=c(46, 47, 48, 47, 47), mu=45, conf.level=0.95);\n",
    "cat(\n",
    "    sprintf(\n",
    "        'Possible values for the mean for the 5-item sample with confidence interval %s %%: [%s]\\np-value for current sample: %s\\n', \n",
    "        attr(result$conf.int, 'conf.level'),\n",
    "        toString(result$conf.int),\n",
    "        result$p.value\n",
    "    )\n",
    ")\n",
    "\n",
    "# note the second confidence interval does not intersect with the true mean -> variation is very likely\n",
    "# due to improvement rather than chance."
   ]
  },
  {
   "cell_type": "code",
   "execution_count": 7,
   "metadata": {},
   "outputs": [
    {
     "name": "stdout",
     "output_type": "stream",
     "text": [
      "Possible values for the mean for the 4-item sample with confidence interval 0.95 %: [49.2317619603331, 65.7682380396669]\n",
      "p-value for current sample: 0.0353301023027491\n"
     ]
    }
   ],
   "source": [
    "# Problem 3:\n",
    "# Between 1945 and 1962 the telephone bill of a CEO averaged $48 per year. \n",
    "# With the new secretary the values were: $56, $51, $63, $60\n",
    "# Should the secretary be fired for over-using the phone ?\n",
    "result <- t.test(x=c(56, 51, 63, 60), mu=48, conf.level=0.95);\n",
    "cat(\n",
    "    sprintf(\n",
    "        'Possible values for the mean for the 4-item sample with confidence interval %s %%: [%s]\\np-value for current sample: %s\\n', \n",
    "        attr(result$conf.int, 'conf.level'),\n",
    "        toString(result$conf.int),\n",
    "        result$p.value\n",
    "    )\n",
    ")\n",
    "# Probably yes, unless the phone service became more expensive on its own."
   ]
  },
  {
   "cell_type": "code",
   "execution_count": 8,
   "metadata": {},
   "outputs": [
    {
     "name": "stdout",
     "output_type": "stream",
     "text": [
      "Everyone got the almost the same income [18456, 18554] (sd=29.1547594742265): confidence interval 0.95 %: [18496.7143090347, 18513.2856909653]\n",
      "p-value for current sample: 1.90805983449625e-92\n",
      "Everyone got the different incomes [3805, 33205] (sd=8746.42784226795): confidence interval 0.95 %: [16019.2927104071, 20990.7072895929]\n",
      "p-value for current sample: 0.103025307777696\n"
     ]
    }
   ],
   "source": [
    "# Problem 4:\n",
    "# The average income of a popultion is $20560\n",
    "# A random sample of 49 people from a neighbour region is 18505\n",
    "# Is the difference statistically significant ?\n",
    "\n",
    "# Not enough info -> standard deviation of the sample is not known.\n",
    "\n",
    "sample1 <- seq(from=18505-49, to=18505+49, by=2)\n",
    "result <- t.test(x=sample1, mu=20560, conf.level=0.95);\n",
    "cat(\n",
    "    sprintf(\n",
    "        'Everyone got the almost the same income [%s, %s] (sd=%s): confidence interval %s %%: [%s]\\np-value for current sample: %s\\n', \n",
    "        min(sample1), max(sample1),\n",
    "        sd(sample1),\n",
    "        attr(result$conf.int, 'conf.level'),\n",
    "        toString(result$conf.int),\n",
    "        result$p.value\n",
    "    )\n",
    ")\n",
    "\n",
    "sample2 <- seq(from=18505-49*300, to=18505+49*300, by=600)\n",
    "result <- t.test(x=sample2, mu=20560, conf.level=0.95);\n",
    "cat(\n",
    "    sprintf(\n",
    "        'Everyone got the different incomes [%s, %s] (sd=%s): confidence interval %s %%: [%s]\\np-value for current sample: %s\\n', \n",
    "        min(sample2), max(sample2),\n",
    "        sd(sample2),\n",
    "        attr(result$conf.int, 'conf.level'),\n",
    "        toString(result$conf.int),\n",
    "        result$p.value\n",
    "    )\n",
    ")"
   ]
  },
  {
   "cell_type": "markdown",
   "metadata": {},
   "source": [
    "## Wilcoxon's Sum of Ranks Test (1945)"
   ]
  },
  {
   "cell_type": "markdown",
   "metadata": {},
   "source": [
    "Compare 2 samples of measurements with the assumption that they come from 2 populations **with equal means** (or same population).\n",
    "Instead of using the values of measurements we rank them in order and based on the smallest sum of ranks determine the probability of obtaining that sum due to chance.\n",
    "\n",
    "Instead of determining the probability of the parent groups having the same mean, we could determine\n",
    "the probability of the sample groups having the **same standard deviation**. For that we need to rank differently.\n",
    "We use the Siegel and Tukey's \"paired alternation\" of ranking: \n",
    "* smallest measurement - rank 1\n",
    "* largest measurement and second largest - rank 2 and 3\n",
    "* second and third smallest measurements - rank 4 and 5\n",
    "* ...\n",
    "This way the extreme values get smaller ranks. To increase the accuracy of the Siegel-Tukey test\n",
    "you need to make the means of the samples equal (e.g. add the difference between the means to the sample with smaller mean).\n",
    "\n",
    "**The test can be applied for any probability distribution**\n",
    "\n",
    "The procedure is applied differently based on the size of samples:\n",
    "1. Number of measurements in the samples are not equal and both are smaller than 20 -> ranking should be made in both directions (smallest to largest and largest to smallest) and the smallest sum of ranks from the 4 results is selected.\n",
    "2. Number of measurements is equal or at least one sample has more than 20 measurements -> apply the formula below:\n",
    "\n",
    "\\begin{equation*}\n",
    "z = \\frac{n_R(n_A + n_B + 1) - 2R}{\\sqrt{\\frac{n_A n_B (n_A + n_B + 1)}{3}}}\n",
    "\\end{equation*}\n",
    "\n",
    "* $n_A$ / $n_B$ - number of measurements in sample A / B\n",
    "* $n_R$ - number of measurements in the sample with smallest sum of ranks\n",
    "* $R$ - smallest sum of ranks"
   ]
  },
  {
   "cell_type": "code",
   "execution_count": 9,
   "metadata": {},
   "outputs": [
    {
     "name": "stdout",
     "output_type": "stream",
     "text": [
      "There is no significant difference in operations on patient recovery: 0.1015,\n",
      "mean1=19.7500, mean2=17.1250"
     ]
    }
   ],
   "source": [
    "# Problem 1:\n",
    "# Examine whether there is a significant different in the recovery times of 2 groups of patients\n",
    "# on which a specific operation to remove the gallbladder is performed.\n",
    "\n",
    "group1 <- c(16,20,25,19,22,15,22,19)\n",
    "group2 <- c(18,19,15,16,21,17,17,14)\n",
    "\n",
    "w <- wilcox.test(group1, group2, exact=FALSE, conf.int=0.95)  # exact=FALSE turns off the warning when measurements with equal values are present\n",
    "# in general ties make the test less accurate.\n",
    "\n",
    "cat(\n",
    "    sprintf(\n",
    "        'There is no significant difference in operations on patient recovery: %.4f,\\nmean1=%.4f, mean2=%.4f', \n",
    "        w$p.value, \n",
    "        mean(group1),\n",
    "        mean(group2)\n",
    "    )\n",
    ")\n"
   ]
  },
  {
   "cell_type": "code",
   "execution_count": 10,
   "metadata": {},
   "outputs": [
    {
     "name": "stdout",
     "output_type": "stream",
     "text": [
      "There is no significant difference in number of ads between the stations: 0.1337,\n",
      "mean1=331.6000, mean2=360.3333\n",
      "\n",
      "There is no significant difference in number of ads between the stations: 0.1041,\n",
      "mean1=331.6000, mean2=360.3333\n",
      "The value of the t-test is more precise but does not change the overall conclusion."
     ]
    }
   ],
   "source": [
    "# Problem 2:\n",
    "# A man recorded the number of advertisments in 2 radio stations. Is there sufficient evidence that\n",
    "# one station airs more ads than the other ?\n",
    "station1 <- c(341, 326, 360, 305, 326)\n",
    "station2 <- c(352, 382, 347)\n",
    "\n",
    "w <- wilcox.test(station1, station2, exact=FALSE)\n",
    "cat(\n",
    "    sprintf(\n",
    "        'There is no significant difference in number of ads between the stations: %.4f,\\nmean1=%.4f, mean2=%.4f', \n",
    "        w$p.value, \n",
    "        mean(station1),\n",
    "        mean(station2)\n",
    "    )\n",
    ")\n",
    "\n",
    "cat(sprintf('\\n\\n'))\n",
    "\n",
    "t <- t.test(x=station1, y=station2, mu=0)  # mu is the difference of means -> i.e. no difference\n",
    "\n",
    "cat(\n",
    "    sprintf(\n",
    "        'There is no significant difference in number of ads between the stations: %.4f,\\nmean1=%.4f, mean2=%.4f', \n",
    "        t$p.value, \n",
    "        mean(station1),\n",
    "        mean(station2)\n",
    "    )\n",
    ")\n",
    "\n",
    "cat(sprintf('\\nThe value of the t-test is more precise but does not change the overall conclusion.'))\n"
   ]
  },
  {
   "cell_type": "code",
   "execution_count": 11,
   "metadata": {},
   "outputs": [
    {
     "name": "stderr",
     "output_type": "stream",
     "text": [
      "Loading required package: jmuOutlier\n"
     ]
    },
    {
     "name": "stdout",
     "output_type": "stream",
     "text": [
      "Probability that the 2 stations are consistent in playing ads: 0.6964\n",
      "sd1=20.4034, sd2=18.9297"
     ]
    }
   ],
   "source": [
    "# Perform the Siegel-Tukey test on data in Problem 2 to determine whether there is a significant\n",
    "# difference in dispersions of the samples.\n",
    "\n",
    "if(!require(jmuOutlier)) {\n",
    "    install.packages(\"jmuOutlier\"); require(jmuOutlier)\n",
    "}\n",
    "\n",
    "siegel_tukey <- function(x, y){\n",
    "    m1 <- mean(x)\n",
    "    m2 <- mean(y)\n",
    "    if (m1 < m2){\n",
    "        x <- x + (m2 - m1)\n",
    "    }\n",
    "    else {\n",
    "        y <- y + (m2 - m1)\n",
    "    }\n",
    "    if (length(x) != length(y) && length(x) < 20 && length(y) < 20) {\n",
    "        s1 <- siegel.test(x, y, reverse=FALSE)\n",
    "        s2 <- siegel.test(x, y, reverse=TRUE)\n",
    "        if (min(c(sum(s1$rank.x), sum(s1$rank.y))) < min(c(sum(s2$rank.x), sum(s2$rank.y)))){\n",
    "            s <- s1\n",
    "        }\n",
    "        else {\n",
    "            s <- s2\n",
    "        }\n",
    "    }\n",
    "    else {\n",
    "        s <- siegel.test(x, y)\n",
    "    }\n",
    "    return(s)\n",
    "}\n",
    "\n",
    "s <- siegel_tukey(station1, station2)\n",
    "\n",
    "cat(\n",
    "    sprintf(\n",
    "        'Probability that the 2 stations are consistent in playing ads: %.4f\\nsd1=%.4f, sd2=%.4f',\n",
    "        s$p.value,\n",
    "        sd(station1),\n",
    "        sd(station2)\n",
    "    )\n",
    ")"
   ]
  },
  {
   "cell_type": "code",
   "execution_count": 12,
   "metadata": {},
   "outputs": [
    {
     "name": "stdout",
     "output_type": "stream",
     "text": [
      "There probability of no significant difference between the aeroplane models is: 0.0338 (rank=3.00),\n",
      "mean1=3223.5000, mean2=3494.7500"
     ]
    }
   ],
   "source": [
    "# Problem 3\n",
    "# First sample consists from the number of passangers travelling each week on a certain route.\n",
    "# Second sample represents the same quantity but for another type of aeroplane (with same number of seats\n",
    "# as previous model). Is the second model more popular than the first ?\n",
    "sample1 <- c(3204, 2967, 3053, 3267, 3370, 3492, 3105, 3330)\n",
    "sample2 <- c(3568, 3299, 3618, 3494)\n",
    "w <- wilcox.test(sample1, sample2, exact=FALSE)\n",
    "cat(\n",
    "    sprintf(\n",
    "        'There probability of no significant difference between the aeroplane models is: %.4f (rank=%.2f),\\nmean1=%.4f, mean2=%.4f', \n",
    "        w$p.value,\n",
    "        w$statistic,\n",
    "        mean(sample1),\n",
    "        mean(sample2)\n",
    "    )\n",
    ")"
   ]
  },
  {
   "cell_type": "code",
   "execution_count": 13,
   "metadata": {},
   "outputs": [
    {
     "name": "stdout",
     "output_type": "stream",
     "text": [
      "Probability of no significant difference in weights: 0.0038"
     ]
    }
   ],
   "source": [
    "# Problem 4:\n",
    "# The problem consists in determining whether domestic cats are better fed than stray cats. \n",
    "# There are 30 samples of weights domestic cats and 15 of stray. The smallest rank total is 234.\n",
    "# Is there a significant difference in cat weights ?\n",
    "\n",
    "# Solution\n",
    "# We apply the formula for the case when one sample has 20 or more measurements:\n",
    "wilcox2.test <- function(na, nb, R) {\n",
    "    nr <- min(na, nb)\n",
    "    z <- sqrt(3) * (nr * (na + nb + 1) - 2 * R) / (sqrt(na*nb*(na + nb + 1)))\n",
    "    return(pnorm(z, lower.tail=FALSE))\n",
    "}\n",
    "\n",
    "cat(sprintf('Probability of no significant difference in weights: %.4f', wilcox2.test(30, 15, 234)))"
   ]
  },
  {
   "cell_type": "markdown",
   "metadata": {},
   "source": [
    "## Wilcoxon's Signed Ranks Test (1945)"
   ]
  },
  {
   "cell_type": "markdown",
   "metadata": {},
   "source": [
    "The test is applied to samples that consist of \"matched measurements\". \n",
    "A pair of matched measurement is either 2 measurements obtained from the same subject by applying different treatments to it \n",
    "or from 2 distinct subjects that are carefully matched on their relevant characteristics.\n",
    "\n",
    "E.g. you can treat the same patient with different medicines at different times and observe the effect but you can't remove the\n",
    "appendix from a patient twice, so you would compare the rate of recovery from different operations for 2 patients matched \n",
    "by age, sex, lifestyle, etc.\n",
    "\n",
    "Restrictions\n",
    "* Matched measurements with equal values should be removed (or repeat the measurements with greater precision)\n",
    "* At least 6 pairs of matched measurements should be left (after removing equal pairs)\n",
    "\n",
    "The procedure is as follows:\n",
    "1. Compute the difference between matched measurements\n",
    "2. Arrange differences by absolute values (in increasing order). Group negative and positive ranks with same absolute value.\n",
    "3. Assign sequential ranks to the ordered measurements (use the average of ranks if there are multiple equal values)\n",
    "4. Sum up the positive and negative ranks (again as absolute values)\n",
    "5. Pick the smallest sum of ranks like in the Sum of Ranks Test $R$\n",
    "\n",
    "The smaller is the value of $R$ the least likely is that there is no difference between the samples.\n",
    "\n",
    "If we have more than 20 matched measurements the following formula applies:\n",
    "\n",
    "\\begin{equation*}\n",
    "z = \\frac{\\frac{1}{2} n (n + 1) - 2R}{\\sqrt{\\frac{n (n + 1) (2n + 1)}{6}}}\n",
    "\\end{equation*}\n",
    "\n",
    "* $n$ - number of matched measurements\n",
    "* $R$ - smallest sum of ranks\n",
    "\n"
   ]
  },
  {
   "cell_type": "code",
   "execution_count": 14,
   "metadata": {},
   "outputs": [
    {
     "name": "stdout",
     "output_type": "stream",
     "text": [
      "Prob of no difference between the treatments: 0.0494 (w sum of ranks =0.5949) (mean_p=7.22, mean_n=6.78)"
     ]
    }
   ],
   "source": [
    "# Problem 1:\n",
    "# Determine whether the new sedative \"Nockout\" is better than the standard \"Phenobarbitone\" by testing them on 10 people \n",
    "# suffering from insomnia.\n",
    "# Experiment is performed by giving half of them one treatment on the same night and the other half the other treatment, then \n",
    "# after sufficient time has passed change the treatments.\n",
    "\n",
    "phenobarbitone <- c(7.5, 7, 7, 5.75, 4.25, 9.25, 8, 7.25, 8.5, 7.75)\n",
    "nockout <- c(8, 6, 6.75, 5, 4.5, 8, 7.5, 6.25, 8, 7.75)\n",
    "\n",
    "w_paired <- wilcox.test(phenobarbitone, nockout, paired=TRUE, exact=FALSE)\n",
    "w_independent <- wilcox.test(phenobarbitone, nockout, paired=FALSE, exact=FALSE)\n",
    "\n",
    "cat(\n",
    "    sprintf(\n",
    "        'Prob of no difference between the treatments: %.4f (w sum of ranks =%.4f) (mean_p=%.2f, mean_n=%.2f)', \n",
    "        w_paired$p.value, \n",
    "        w_independent$p.value,\n",
    "        mean(phenobarbitone),\n",
    "        mean(nockout)\n",
    "    )\n",
    ")\n",
    "\n",
    "# The null hypothesis is probably false. Looking at the mean sleep times it looks like the new treatment is less effective.\n",
    "# Note how paired test experiment provides evidence of statistical significance whereas if we treat the data as independent groups\n",
    "# (we assume the treatments were given to different groups of 10 patients each) such evindence is clearly missing. \n",
    "# Conclusion: by changing the design of the experiment and how we compare the data we can get more information from the same \n",
    "# number of measurements."
   ]
  },
  {
   "cell_type": "code",
   "execution_count": 15,
   "metadata": {},
   "outputs": [
    {
     "name": "stdout",
     "output_type": "stream",
     "text": [
      "Prob of no effect on hair due to bleach: 0.1706 (mean_b=100.71, mean_a=97.29)\n"
     ]
    },
    {
     "data": {
      "text/html": [
       "'differences, 8, 10, 0, 3, 3, -5, 5'"
      ],
      "text/latex": [
       "'differences, 8, 10, 0, 3, 3, -5, 5'"
      ],
      "text/markdown": [
       "'differences, 8, 10, 0, 3, 3, -5, 5'"
      ],
      "text/plain": [
       "[1] \"differences, 8, 10, 0, 3, 3, -5, 5\""
      ]
     },
     "metadata": {},
     "output_type": "display_data"
    },
    {
     "name": "stdout",
     "output_type": "stream",
     "text": [
      "Prob of no effect on hair due to bleach: 0.1083 (mean_b=100.87, mean_a=97.30)"
     ]
    }
   ],
   "source": [
    "# Problem 2:\n",
    "# A research chemist tests the effect of hair bleach on hair strength. Sever women are picked for the experiment.\n",
    "# The hair strength is tested before and after the use of the bleach. Hair strength is tested to by measuring the breaking\n",
    "# point of 6 hairs and taking the average weight in grams of the load used for testing. Note how the average is used (different hairs\n",
    "# have naturally different breaking points).\n",
    "\n",
    "before <- c(105, 105, 93, 120, 111, 80, 91)\n",
    "after <- c(97, 95, 93, 117, 108, 85, 86)\n",
    "\n",
    "w <- wilcox.test(before, after, paired=TRUE, exact=FALSE)\n",
    "\n",
    "cat(\n",
    "    sprintf(\n",
    "        'Prob of no effect on hair due to bleach: %.4f (mean_b=%.2f, mean_a=%.2f)', \n",
    "        w$p.value, \n",
    "        mean(before),\n",
    "        mean(after)\n",
    "    )\n",
    ")\n",
    "\n",
    "# The null hypothesis is not proven false.\n",
    "\n",
    "cat('\\n')\n",
    "paste(c('differences', d <- before - after), collapse=', ')\n",
    "\n",
    "# There are several ties which the chemist removes by repeated measurements\n",
    "\n",
    "before <- c(105, 105, 93.2, 120.1, 111.4, 80.1, 91.3)\n",
    "after <- c(97, 95, 93, 117.1, 108.3, 84.7, 86)\n",
    "\n",
    "w <- wilcox.test(before, after, paired=TRUE, exact=FALSE)\n",
    "\n",
    "cat(\n",
    "    sprintf(\n",
    "        'Prob of no effect on hair due to bleach: %.4f (mean_b=%.2f, mean_a=%.2f)', \n",
    "        w$p.value, \n",
    "        mean(before),\n",
    "        mean(after)\n",
    "    )\n",
    ")\n",
    "\n",
    "# The null hypothesis still not proven false. Note the decrease in p value though."
   ]
  },
  {
   "cell_type": "code",
   "execution_count": 16,
   "metadata": {},
   "outputs": [
    {
     "name": "stdout",
     "output_type": "stream",
     "text": [
      "Prob of no effect of chemical compound on flower life: 0.0012"
     ]
    }
   ],
   "source": [
    "# Problem 3: \n",
    "# We want to know whether a chemical solution is prolonging the life of cut flowers. We picked pairs of 25 types of flowers,\n",
    "# put them in a vase close to each other (to exclude variations in environment conditions like degree of light), one vase \n",
    "# with plain water, another with the solution added.\n",
    "\n",
    "R <- 50\n",
    "n <- 25\n",
    "\n",
    "z <- (0.5 * n * (n + 1) - 2 * R) / sqrt(1/6 * n * (n + 1) * (2 * n + 1))\n",
    "pvalue <- pnorm(z, lower.tail=FALSE)\n",
    "\n",
    "cat(\n",
    "    sprintf(\n",
    "        'Prob of no effect of chemical compound on flower life: %.4f', pvalue\n",
    "    )\n",
    ")\n",
    "\n",
    "# The difference is statistically significant."
   ]
  },
  {
   "cell_type": "code",
   "execution_count": 17,
   "metadata": {},
   "outputs": [
    {
     "name": "stdout",
     "output_type": "stream",
     "text": [
      "Prob of no effect on fuel consumption: 0.1508 (mean_g=25.30, mean_gl=24.21)"
     ]
    }
   ],
   "source": [
    "# Problem 4:\n",
    "# Test the effectiveness of gasoline consumption of a motor lubricant. \n",
    "# Take 8 different cars and test them on 100 mile run (use both times the same brand of gasoline).\n",
    "\n",
    "gasoline <- c(17.1, 29.5, 23.8, 37.3, 19.6, 24.2, 30, 20.9)\n",
    "gasoline_and_lubricant <- c(14.2, 30.3, 21.5, 36.3, 19.6, 24.5, 26.7, 20.6)\n",
    "\n",
    "w <- wilcox.test(gasoline, gasoline_and_lubricant, paired = TRUE, exact = FALSE)\n",
    "\n",
    "cat(\n",
    "    sprintf(\n",
    "        'Prob of no effect on fuel consumption: %.4f (mean_g=%.2f, mean_gl=%.2f)', \n",
    "        w$p.value, \n",
    "        mean(gasoline),\n",
    "        mean(gasoline_and_lubricant)\n",
    "    )\n",
    ")\n",
    "\n",
    "# The effectiveness of lubricant is not proven."
   ]
  },
  {
   "cell_type": "code",
   "execution_count": 19,
   "metadata": {},
   "outputs": [
    {
     "name": "stdout",
     "output_type": "stream",
     "text": [
      "Prob of no effect of fertilization method: 0.0413 (t.test=0.0497) (mean_c=20.19, mean_s=17.57)"
     ]
    }
   ],
   "source": [
    "# Problem 5:\n",
    "# Darwin's experiment of comparing the growth of cross-fertilized plants vs self-fertilized.\n",
    "f_cross <- c(23.5, 12, 21, 22, 19.125, 21.5, 22.125, 20.375, 18.25, 21.625, 23.25, 21, 22.125, 23, 12)\n",
    "f_self <- c(17.375, 20.375, 20, 20, 18.375, 18.625, 18.625, 15.25, 16.5, 18, 16.25, 18, 12.75, 15.5, 18) \n",
    "\n",
    "t <- t.test(f_cross, f_self, paired = TRUE)\n",
    "w <- wilcox.test(f_cross, f_self, paired = TRUE)\n",
    "\n",
    "cat(\n",
    "    sprintf(\n",
    "        'Prob of no effect of fertilization method: %.4f (t.test=%.4f) (mean_c=%.2f, mean_s=%.2f)', \n",
    "        w$p.value,\n",
    "        t$p.value,\n",
    "        mean(f_cross),\n",
    "        mean(f_self)\n",
    "    )\n",
    ")\n",
    "\n",
    "# The effect is likely statistically significant.\n"
   ]
  },
  {
   "cell_type": "markdown",
   "metadata": {},
   "source": [
    "## Wilcoxon's Stratified Test (1946)"
   ]
  },
  {
   "cell_type": "markdown",
   "metadata": {},
   "source": [
    "The test is used to compare 2 independent stratified random samples with the same number of measurements in each stratum. It is an extension of the Sum of Ranks Test for samples that can be split into distinct strata.\n",
    "\n",
    "Restrictions\n",
    "* Number of measurements in each stratum should be the same\n",
    "\n",
    "The procedure is as follows:\n",
    "1. Split the samples into strata\n",
    "2. Rank each strata separately\n",
    "3. Compute the sum of ranks for each strata\n",
    "4. Sum the sum of ranks for all strata\n",
    "5. Pick the smallest total sum\n",
    "6. Use the formula below:\n",
    "\n",
    "\\begin{equation*}\n",
    "z = \\frac{\n",
    "    n_1(2n_1 + 1) + n_2(2n_2 + 1) + ... + n_k(2n_k + 1) - 2R\n",
    "}{\n",
    "      \\sqrt{\n",
    "          \\frac{\n",
    "              n_1^2(2n_1 + 1) + n_2^2(2n_2+1) + ... + n_k^2(2n_k + 1)\n",
    "          }{3}\n",
    "      }\n",
    "}\n",
    "\\end{equation*}\n",
    "\n",
    "* $k$ - number of strata\n",
    "* $n_i$ - number of samples in stratum $i$\n",
    "* $R$ - smallest sum of ranks\n",
    "\n",
    "When the number of samples in each stratum is the same the formula simplifies to:\n",
    "\\begin{equation*}\n",
    "z = \\frac{kn(2n + 1) - 2R}{\\sqrt{\\frac{kn^2(2n + 1)}{3}}}\n",
    "\\end{equation*}\n",
    "\n",
    "And when there is a 1 stratum with same number of measurements for each sample ($k = 1$) we obtain the formula for Sum of Ranks Test:\n",
    "\n",
    "\\begin{equation*}\n",
    "z = \\frac{n(n * n + 1) - 2R}{\\sqrt{\\frac{n * n(n + n + 1)}{3}}}\n",
    "\\end{equation*}\n",
    "\n",
    "\n",
    "\n",
    "\n"
   ]
  },
  {
   "cell_type": "code",
   "execution_count": 23,
   "metadata": {},
   "outputs": [],
   "source": [
    "wilcox_stratified.test <- function(s1, s2) {\n",
    "  sR1 <- 0\n",
    "  sR2 <- 0\n",
    "  nA <- c()\n",
    "  nB <- c()\n",
    "  for (t in mapply(list, s1, s2, SIMPLIFY = FALSE)) {\n",
    "    g1 <- t[[1]]\n",
    "    g2 <- t[[2]]\n",
    "    r <- rank(c(g1, g2))\n",
    "    l1 <- length(g1)\n",
    "    l2 <- length(g2)\n",
    "    sR1 <- sR1 + sum(r[1:l1])\n",
    "    sR2 <- sR2 + sum(r[(l1 + 1):(l1 + l2)])\n",
    "    nA <- c(nA, l1)\n",
    "    nB <- c(nB, l2)\n",
    "  }\n",
    "  \n",
    "  R <- min(sR1, sR2)\n",
    "\n",
    "  n <- sum(pmin(nA, nB) * (nA + nB + 1)) - 2*R\n",
    "  n <- sqrt(3) * n\n",
    "  d <- sqrt(sum(nA * nB * (nA + nB + 1)))\n",
    "  \n",
    "  return(data.frame(statistic=R, p.value=2 * pnorm(n / d, lower.tail=FALSE)))  # two tailed value\n",
    "}"
   ]
  },
  {
   "cell_type": "code",
   "execution_count": 24,
   "metadata": {},
   "outputs": [
    {
     "name": "stdout",
     "output_type": "stream",
     "text": [
      "Prob that there is no significant difference between preparations: 0.000246, Mean(A)=41.75, Mean(B)=65.58"
     ]
    }
   ],
   "source": [
    "# Problem 1\n",
    "# Two DDT preparations are used in 3 different concentrations to measure how well they kill flour beetles. \n",
    "# For each concentration 4 experiments are performed. Is there a significant difference between preparations ?\n",
    "# Values are given in percetange of killed bettles from the sample.\n",
    "\n",
    "conc_25mg_A <- c(18, 26, 30, 50)\n",
    "conc_25mg_B <- c(34, 42, 53, 63)\n",
    "\n",
    "conc_50mg_A <- c(33, 42, 44, 44)\n",
    "conc_50mg_B <- c(60, 62, 66, 80)\n",
    "\n",
    "conc_100mg_A <- c(44, 50, 56, 64)\n",
    "conc_100mg_B <- c(74, 77, 84, 92)\n",
    "\n",
    "preparation_A <- list(conc_25mg_A, conc_50mg_A, conc_100mg_A)\n",
    "preparation_B <- list(conc_25mg_B, conc_50mg_B, conc_100mg_B)\n",
    "\n",
    "cat(\n",
    "    sprintf(\n",
    "        'Prob that there is no significant difference between preparations: %.6f, Mean(A)=%.2f, Mean(B)=%.2f', \n",
    "        wilcox_stratified.test(preparation_A, preparation_B)$p.value,\n",
    "        mean(unlist(preparation_A)),\n",
    "        mean(unlist(preparation_B))\n",
    "    )\n",
    ")\n",
    "\n",
    "# Preparation B is clearly more effective in killing flour beetles."
   ]
  },
  {
   "cell_type": "code",
   "execution_count": 26,
   "metadata": {},
   "outputs": [
    {
     "name": "stdout",
     "output_type": "stream",
     "text": [
      "Prob that there is no significant difference between treatments: (34) 0.0419, Mean(A)=6.92, Mean(B)=9.17"
     ]
    }
   ],
   "source": [
    "# Problem 2\n",
    "# We want to compare 2 treatments for curing acne. \n",
    "# We split the patients into 2 groups, within each group we separate the patients into 4 strata, based on the severity of the disease.\n",
    "# We measure the number of weeks it takes for the cure to reach 90%.\n",
    "\n",
    "mild_A <- c(2, 3)\n",
    "mild_B <- c(2, 4)\n",
    "\n",
    "moderate_A <- c(3, 5, 6, 10)\n",
    "moderate_B <- c(4, 6, 7, 9)\n",
    "\n",
    "severe_A <- c(6, 8, 11)\n",
    "severe_B <- c(9, 14, 14)\n",
    "\n",
    "very_severe_A <- c(8, 10, 11)\n",
    "very_severe_B <- c(12, 14, 15)\n",
    "\n",
    "treatment_A <- list(mild_A, moderate_A, severe_A, very_severe_A)\n",
    "treatment_B <- list(mild_B, moderate_B, severe_B, very_severe_B)\n",
    "\n",
    "r <- wilcox_stratified.test(treatment_A, treatment_B)\n",
    "\n",
    "cat(\n",
    "    sprintf(\n",
    "        'Prob that there is no significant difference between treatments: (%d) %.4f, Mean(A)=%.2f, Mean(B)=%.2f', \n",
    "        r$statistic,\n",
    "        r$p.value,\n",
    "        mean(unlist(treatment_A)),\n",
    "        mean(unlist(treatment_B))\n",
    "    )\n",
    ")\n",
    "\n",
    "# The difference is probably significant 1% < x < 5%"
   ]
  },
  {
   "cell_type": "code",
   "execution_count": 28,
   "metadata": {},
   "outputs": [
    {
     "name": "stdout",
     "output_type": "stream",
     "text": [
      "Prob that there is no significant difference between contestants: (16) 0.1228, Mean(Houdini)=12.60, Mean(Anon)=13.40"
     ]
    }
   ],
   "source": [
    "# Problem 3\n",
    "# A man is challenging Houdini who can escape faster from standard policy handcuffs. \n",
    "# The experiment is performed with 2 handcuff models, each competitor tries to escape 3 times.\n",
    "# The measurements is the number of seconds needed to unlock the handcuffs.\n",
    "# Is the contender less or more skilled ?\n",
    "\n",
    "h1_Houdini <- c(10.9, 11.3, 10.2)\n",
    "h1_Anon <- c(10.3, 10.6, 12.2)\n",
    "\n",
    "h2_Houdini <- c(13.8, 15.1, 14.3)\n",
    "h2_Anon <- c(16.3, 15.2, 15.8)\n",
    "\n",
    "houdini <- list(h1_Houdini, h2_Houdini)\n",
    "anon <- list(h1_Anon, h2_Anon)\n",
    "\n",
    "r <- wilcox_stratified.test(houdini, anon)\n",
    "\n",
    "cat(\n",
    "    sprintf(\n",
    "        'Prob that there is no significant difference between contestants: (%d) %.4f, Mean(Houdini)=%.2f, Mean(Anon)=%.2f', \n",
    "        r$statistic,\n",
    "        r$p.value,\n",
    "        mean(unlist(houdini)),\n",
    "        mean(unlist(anon))\n",
    "    )\n",
    ")\n",
    "\n",
    "# Statistical difference between contestants is not proved."
   ]
  },
  {
   "cell_type": "code",
   "execution_count": 30,
   "metadata": {},
   "outputs": [
    {
     "name": "stdout",
     "output_type": "stream",
     "text": [
      "Prob that there is no significant difference between chemicals: (38) 0.0707, Mean(Magic Powder)=3.78, Mean(Detergent)=4.83"
     ]
    }
   ],
   "source": [
    "# Problem 4\n",
    "# Joe is testing a 'magic powder' from Bolivia which the natives claim that it prevents clothes from shrinking after laundering.\n",
    "# He tested 9 different cloths, cutting them into 4 strips, 2 strips are tested with magic powder + detergent and 2 with detergent.\n",
    "# The measurements indicate percentage of shrinkage of the cloth.\n",
    "\n",
    "A_mp <- c(0, 1)\n",
    "A_od <- c(3, 3)\n",
    "\n",
    "B_mp <- c(2, 5)\n",
    "B_od <- c(4, 6)\n",
    "\n",
    "C_mp <- c(6, 4)\n",
    "C_od <- c(5, 7)\n",
    "\n",
    "D_mp <- c(10, 8)\n",
    "D_od <- c(7, 11)\n",
    "\n",
    "E_mp <- c(4, 1)\n",
    "E_od <- c(3, 2)\n",
    "\n",
    "F_mp <- c(1, 2)\n",
    "F_od <- c(1, 4)\n",
    "\n",
    "G_mp <- c(6, 5)\n",
    "G_od <- c(9, 9)\n",
    "\n",
    "H_mp <- c(0, 2)\n",
    "H_od <- c(2, 3)\n",
    "\n",
    "I_mp <- c(4, 7)\n",
    "I_od <- c(3, 5)\n",
    "\n",
    "\n",
    "magic_powder <- list(A_mp, B_mp, C_mp, D_mp, E_mp, F_mp, G_mp, H_mp, I_mp)\n",
    "ordinary_detergent <- list(A_od, B_od, C_od, D_od, E_od, F_od, G_od, H_od, I_od)\n",
    "\n",
    "r <- wilcox_stratified.test(magic_powder, ordinary_detergent)\n",
    "\n",
    "cat(\n",
    "    sprintf(\n",
    "        'Prob that there is no significant difference between chemicals: (%d) %.4f, Mean(Magic Powder)=%.2f, Mean(Detergent)=%.2f', \n",
    "        r$statistic,\n",
    "        r$p.value,\n",
    "        mean(unlist(magic_powder)),\n",
    "        mean(unlist(ordinary_detergent))\n",
    "    )\n",
    ")\n",
    "\n",
    "# Significant difference not proven"
   ]
  }
 ],
 "metadata": {
  "kernelspec": {
   "display_name": "R",
   "language": "R",
   "name": "ir"
  },
  "language_info": {
   "codemirror_mode": "r",
   "file_extension": ".r",
   "mimetype": "text/x-r-source",
   "name": "R",
   "pygments_lexer": "r",
   "version": "3.5.3"
  }
 },
 "nbformat": 4,
 "nbformat_minor": 2
}
