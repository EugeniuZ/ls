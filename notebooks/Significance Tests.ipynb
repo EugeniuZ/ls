{
 "cells": [
  {
   "cell_type": "markdown",
   "metadata": {},
   "source": [
    "# Signifinace Tests"
   ]
  },
  {
   "cell_type": "markdown",
   "metadata": {},
   "source": [
    "A significance test answers the question: what is the probability that a sample comes from a population. If the probability is low we can conclude that it is unlikely that the sample belongs to that population. However, if the probability is high it doesn't mean it is from the same population, we just didn't prove it isn't. We can never prove it is.\n",
    "By convention the following probability levels were chosen:\n",
    "\n",
    "* \\> 5% nlikelyhood that the sample could have been drawn by chance from the population is high and therefore we can't say anything about the relationship between the 2\n",
    "* 1% < x < 5% - the sample probably doesn't belong to population\n",
    "* < 1% - the sample is very likely to belong to another population "
   ]
  },
  {
   "cell_type": "markdown",
   "metadata": {},
   "source": [
    "## zM Test (1733)"
   ]
  },
  {
   "cell_type": "code",
   "execution_count": 30,
   "metadata": {},
   "outputs": [],
   "source": [
    "zm <- function(sample, population_mean, population_sd, sides=2) {\n",
    "    result <- abs(mean(sample) - population_mean) * sqrt(length(sample)) / population_sd\n",
    "    return(100 * pnorm(result, lower.tail=FALSE) * sides)\n",
    "}\n",
    "# note the use of 2-sided probabilities by default because we ask whether there is a\n",
    "# difference in result, not whether the difference is smaller or greater \n",
    "# (we use absolute value calculation) "
   ]
  },
  {
   "cell_type": "code",
   "execution_count": 27,
   "metadata": {},
   "outputs": [
    {
     "name": "stdout",
     "output_type": "stream",
     "text": [
      "Prob(metal=gold)=0.006334%"
     ]
    }
   ],
   "source": [
    "# Problem 1: \n",
    "# Gold melts at 1060, assume a sd of 3 degrees obtained by running many melting experiments.\n",
    "# An unknown metal was found out to melt at 1072. \n",
    "# What is the probability that the metal is gold ?\n",
    "\n",
    "cat(sprintf('Prob(metal=gold)=%.6f%%', zm(1072, 1060, 3)))"
   ]
  },
  {
   "cell_type": "code",
   "execution_count": 28,
   "metadata": {},
   "outputs": [
    {
     "name": "stdout",
     "output_type": "stream",
     "text": [
      "Prob(disease causes higher pulse rate)=0.014780%"
     ]
    }
   ],
   "source": [
    "# Problem 2:\n",
    "# 40 patients with a certain disease have a mean pulse rate of 73\n",
    "# Mean pulse rate for healthy people = 70 with an sd = 5\n",
    "# How likely the increased pulse rate is due to illness and not just a random variation of a set of healthy people ?\n",
    "\n",
    "cat(sprintf('Prob(disease causes higher pulse rate)=%.6f%%', zm(rep(73, 40), 70, 5)))\n",
    "\n",
    "# Pulse rate is statistically significant but not practically significant (only 3 extra beats per minute)."
   ]
  },
  {
   "cell_type": "code",
   "execution_count": 32,
   "metadata": {},
   "outputs": [
    {
     "name": "stdout",
     "output_type": "stream",
     "text": [
      "Prob(metal=copper)=10.959858%\n",
      "Prob(metal=copper)=0.137428%"
     ]
    }
   ],
   "source": [
    "# Problem 3:\n",
    "# Copper melts at 1080 degrees with an sd = 5.\n",
    "# How likely that metal from Problem 1 is copper ?\n",
    "\n",
    "cat(sprintf('Prob(metal=copper)=%.6f%%\\n', zm(1072, 1080, 5)))\n",
    "\n",
    "# and if we retest the melting temperature of the unknown metal ?\n",
    "cat(sprintf('Prob(metal=copper)=%.6f%%', zm(c(1072, 1071, 1072, 1073), 1080, 5)))"
   ]
  },
  {
   "cell_type": "markdown",
   "metadata": {},
   "source": [
    "## Student's _t_ Test (1908)"
   ]
  },
  {
   "cell_type": "code",
   "execution_count": 23,
   "metadata": {},
   "outputs": [
    {
     "name": "stdout",
     "output_type": "stream",
     "text": [
      "Possible values for the mean of a 3-item sample with confidence interval 0.95 %: [44.5158622882497, 49.4841377117503]\n",
      "p-value for current sample: 0.0741799002274485\n"
     ]
    }
   ],
   "source": [
    "# same formula as for zM test with 2 exceptions:\n",
    "# 1. The standard deviation of the sample is used (sd of the population is unknown)\n",
    "# 2. Obtaining the p-value from the result depends on the sample size (so is like p-values for z \n",
    "# but different values, depending on sample size -> smaller the sample the larger the z value for \n",
    "# the same p-value)\n",
    "\n",
    "# Problem 1:\n",
    "# A printing press can make 45 copies per minute\n",
    "# After an adjustment to increase its throughput we obtain: 46, 47, 48 copies per minute.\n",
    "# How likely the change is due to random variation rather than the effect of adjustment ?\n",
    "\n",
    "result <- t.test(x=c(46, 47, 48), mu=45, conf.level=0.95);\n",
    "cat(\n",
    "    sprintf(\n",
    "        'Possible values for the mean of a 3-item sample with confidence interval %s %%: [%s]\\np-value for current sample: %s\\n', \n",
    "        attr(result$conf.int, 'conf.level'),\n",
    "        toString(result$conf.int),\n",
    "        result$p.value\n",
    "    )\n",
    ")"
   ]
  },
  {
   "cell_type": "code",
   "execution_count": 24,
   "metadata": {},
   "outputs": [
    {
     "name": "stdout",
     "output_type": "stream",
     "text": [
      "Possible values for the mean for the 5-item sample with confidence interval 0.95 %: [46.1220109669149, 47.8779890330851]\n",
      "p-value for current sample: 0.00319820215233531\n"
     ]
    }
   ],
   "source": [
    "# Problem 2:\n",
    "# If the next 2 trials in Problem 1 yield: 47, 47 how is the p-value changing ?\n",
    "result <- t.test(x=c(46, 47, 48, 47, 47), mu=45, conf.level=0.95);\n",
    "cat(\n",
    "    sprintf(\n",
    "        'Possible values for the mean for the 5-item sample with confidence interval %s %%: [%s]\\np-value for current sample: %s\\n', \n",
    "        attr(result$conf.int, 'conf.level'),\n",
    "        toString(result$conf.int),\n",
    "        result$p.value\n",
    "    )\n",
    ")\n",
    "\n",
    "# note the second confidence interval does not intersect with the true mean -> variation is very likely\n",
    "# due to improvement rather than chance."
   ]
  },
  {
   "cell_type": "code",
   "execution_count": 26,
   "metadata": {},
   "outputs": [
    {
     "name": "stdout",
     "output_type": "stream",
     "text": [
      "Possible values for the mean for the 4-item sample with confidence interval 0.95 %: [49.2317619603331, 65.7682380396669]\n",
      "p-value for current sample: 0.0353301023027491\n"
     ]
    }
   ],
   "source": [
    "# Problem 3:\n",
    "# Between 1945 and 1962 the telephone bill of a CEO averaged $48 per year. \n",
    "# With the new secretary the values were: $56, $51, $63, $60\n",
    "# Should the secretary be fired for over-using the phone ?\n",
    "result <- t.test(x=c(56, 51, 63, 60), mu=48, conf.level=0.95);\n",
    "cat(\n",
    "    sprintf(\n",
    "        'Possible values for the mean for the 4-item sample with confidence interval %s %%: [%s]\\np-value for current sample: %s\\n', \n",
    "        attr(result$conf.int, 'conf.level'),\n",
    "        toString(result$conf.int),\n",
    "        result$p.value\n",
    "    )\n",
    ")\n",
    "# Probably yes, unless the phone service became more expensive on its own."
   ]
  },
  {
   "cell_type": "code",
   "execution_count": 35,
   "metadata": {},
   "outputs": [
    {
     "name": "stdout",
     "output_type": "stream",
     "text": [
      "Everyone got the almost the same income [18456, 18554] (sd=29.1547594742265): confidence interval 0.95 %: [18496.7143090347, 18513.2856909653]\n",
      "p-value for current sample: 1.90805983449625e-92\n",
      "Everyone got the different incomes [3805, 33205] (sd=8746.42784226795): confidence interval 0.95 %: [16019.2927104071, 20990.7072895929]\n",
      "p-value for current sample: 0.103025307777696\n"
     ]
    }
   ],
   "source": [
    "# Problem 4:\n",
    "# The average income of a popultion is $20560\n",
    "# A random sample of 49 people from a neighbour region is 18505\n",
    "# Is the difference statistically significant ?\n",
    "\n",
    "# Not enough info -> standard deviation of the sample is not known.\n",
    "\n",
    "sample1 <- seq(from=18505-49, to=18505+49, by=2)\n",
    "result <- t.test(x=sample1, mu=20560, conf.level=0.95);\n",
    "cat(\n",
    "    sprintf(\n",
    "        'Everyone got the almost the same income [%s, %s] (sd=%s): confidence interval %s %%: [%s]\\np-value for current sample: %s\\n', \n",
    "        min(sample1), max(sample1),\n",
    "        sd(sample1),\n",
    "        attr(result$conf.int, 'conf.level'),\n",
    "        toString(result$conf.int),\n",
    "        result$p.value\n",
    "    )\n",
    ")\n",
    "\n",
    "sample2 <- seq(from=18505-49*300, to=18505+49*300, by=600)\n",
    "result <- t.test(x=sample2, mu=20560, conf.level=0.95);\n",
    "cat(\n",
    "    sprintf(\n",
    "        'Everyone got the different incomes [%s, %s] (sd=%s): confidence interval %s %%: [%s]\\np-value for current sample: %s\\n', \n",
    "        min(sample2), max(sample2),\n",
    "        sd(sample2),\n",
    "        attr(result$conf.int, 'conf.level'),\n",
    "        toString(result$conf.int),\n",
    "        result$p.value\n",
    "    )\n",
    ")"
   ]
  }
 ],
 "metadata": {
  "kernelspec": {
   "display_name": "R",
   "language": "R",
   "name": "ir"
  },
  "language_info": {
   "codemirror_mode": "r",
   "file_extension": ".r",
   "mimetype": "text/x-r-source",
   "name": "R",
   "pygments_lexer": "r",
   "version": "3.5.3"
  }
 },
 "nbformat": 4,
 "nbformat_minor": 2
}
