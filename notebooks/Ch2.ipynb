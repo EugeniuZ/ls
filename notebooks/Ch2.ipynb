{
 "cells": [
  {
   "cell_type": "markdown",
   "metadata": {},
   "source": [
    "To clarify for this chapter:\n",
    "* What is an Effect in a population\n",
    "  * is an outcome we are observing as a result of manipulating an input variable (the cause)\n",
    "  * e.g. effect -> starting a fight, input variable -> drinking alcohol\n",
    "* How to measure the Effect\n",
    "  * ???\n",
    "* What does it mean to fit a statistical model to the data \n",
    "  * That's wrong formulation. You rather pick a statistical model and see how well it \"fits\" to the observed data (by measuring the total error in the \"fit\")\n",
    "* How to compute the error of the fitted model \n",
    "   * depends on the test statistic. E.g. if the test statistic is a mean -> as error we can use the standard deviation (the smaller the standard deviation the better the mean represents the observed samples)\n",
    "* What is a test statistic\n",
    "   * the ratio between the systematic variation vs unsystematic variation (how much of a change does the manipulation of an input variable introduce compared to the random variation of that input variable)\n",
    "* What does the term \"probability of a test statistic\" mean\n",
    "   * there are standardized tables of probabilities for given values of test statistics (just like for z-scores)\n",
    "* Effect significance vs effect size\n",
    "   * standardized measure of the magnitude of an observed effect (e.g. Pearson Correlation Coefficient, Cohen's d coefficient)\n"
   ]
  },
  {
   "cell_type": "markdown",
   "metadata": {},
   "source": [
    "# Statistical Models\n",
    "\n",
    "We want to discover some process that occurs in real world. We make a guess about how that process works and derive hypotheses from our guess. How do we prove the hypotheses ? \n",
    "\n",
    "Because in practice we can't observe all possible outcomes (the population) we collect some actual outcomes (the samples) and then pick a statistical model that 'fits well enough'. If such model is found  we use it to further study the real process.\n",
    "\n",
    "The 2 basic idea in working with Statistical Models are given by the equations below:"
   ]
  },
  {
   "cell_type": "markdown",
   "metadata": {},
   "source": [
    "$\n",
    "\\begin{align}\n",
    "outcome_i & = model + error_i \\\\\n",
    "deviation & = \\sum(observed - model)^2 \\\\\n",
    "\\end{align}\n",
    "$"
   ]
  },
  {
   "cell_type": "markdown",
   "metadata": {},
   "source": [
    "# The Simplest Statistical Model - The Mean"
   ]
  },
  {
   "cell_type": "code",
   "execution_count": 45,
   "metadata": {},
   "outputs": [],
   "source": [
    "library('ggplot2')\n",
    "options(repr.plot.width=6, repr.plot.height=4)\n",
    "options(digits=4)\n",
    "require(gridExtra)"
   ]
  },
  {
   "cell_type": "code",
   "execution_count": 56,
   "metadata": {},
   "outputs": [
    {
     "data": {
      "text/html": [
       "'True mean: 1.299559, Sample mean: 1.352249'"
      ],
      "text/latex": [
       "'True mean: 1.299559, Sample mean: 1.352249'"
      ],
      "text/markdown": [
       "'True mean: 1.299559, Sample mean: 1.352249'"
      ],
      "text/plain": [
       "[1] \"True mean: 1.299559, Sample mean: 1.352249\""
      ]
     },
     "metadata": {},
     "output_type": "display_data"
    }
   ],
   "source": [
    "observations <- c(rnorm(70000, 1, 0.5), rnorm(30000, 2, 0.2))\n",
    "mean_population <- mean(observations)\n",
    "sample_1 <- sample(observations, length(observations) / 1000, replace = FALSE)\n",
    "mean_sample <- mean(sample_1)\n",
    "sprintf('True mean: %f, Sample mean: %f', mean_population, mean_sample)"
   ]
  },
  {
   "cell_type": "code",
   "execution_count": 57,
   "metadata": {},
   "outputs": [
    {
     "name": "stderr",
     "output_type": "stream",
     "text": [
      "Warning message:\n",
      "\"Removed 2 rows containing missing values (geom_bar).\""
     ]
    },
    {
     "data": {
      "image/png": "[encoded data removed]",
      "text/plain": [
       "plot without title"
      ]
     },
     "metadata": {},
     "output_type": "display_data"
    }
   ],
   "source": [
    "main_plot <- ggplot(data.frame(value=observations), aes(x=value)) + geom_histogram(binwidth=0.1, color=\"white\", fill=rgb(0.2,0.7,0.1,0.4)) + ggtitle(paste('Population mean=', mean_population))\n",
    "sample_plot <- ggplot(data.frame(value=sample_1), aes(x=value)) + geom_histogram(binwidth=0.1, color=\"white\", fill=rgb(0.7,0.2,0.1,0.4)) + xlim(1.1 * layer_scales(main_plot)$x$range$range) + ggtitle(paste('Sample mean=', mean_sample))\n",
    "grid.arrange(main_plot, sample_plot, nrow=2)"
   ]
  },
  {
   "cell_type": "markdown",
   "metadata": {},
   "source": [
    "### The Fit of the Mean\n",
    "To find how well the mean fits the observed data we can make progressively the following attempts:\n",
    "* Sum up the differences between the mean and the sample -> we obtain perfect fit (sum of differences is equal to sum of samples - mean * n_samples)\n",
    "* Square up the differences to avoid cancellation -> then fit is dependent on the number of samples (more sample, bigger the sum of squared differences)\n",
    "* Divide sum of squares by (n_samples - 1) (**variance**) -> the fit does not depend on the number of samples, however the error unit is squared now\n",
    "  * We take N-1 instead of N because we assume the sample mean is the population mean and thus need to have 1 sample that can vary in order to keep the mean constant when we take other samples as reference. This is not a mathematical proof but good enough as an intuitive explanation.\n",
    "* Take the square root of the variance -> **standard deviation**"
   ]
  },
  {
   "cell_type": "code",
   "execution_count": 65,
   "metadata": {},
   "outputs": [
    {
     "data": {
      "text/html": [
       "'Sum of differences=0.000000'"
      ],
      "text/latex": [
       "'Sum of differences=0.000000'"
      ],
      "text/markdown": [
       "'Sum of differences=0.000000'"
      ],
      "text/plain": [
       "[1] \"Sum of differences=0.000000\""
      ]
     },
     "metadata": {},
     "output_type": "display_data"
    },
    {
     "data": {
      "text/html": [
       "'Sum of squared differences=37.388172'"
      ],
      "text/latex": [
       "'Sum of squared differences=37.388172'"
      ],
      "text/markdown": [
       "'Sum of squared differences=37.388172'"
      ],
      "text/plain": [
       "[1] \"Sum of squared differences=37.388172\""
      ]
     },
     "metadata": {},
     "output_type": "display_data"
    },
    {
     "data": {
      "text/html": [
       "'Variance=0.377658, (built-in var()=0.377658)'"
      ],
      "text/latex": [
       "'Variance=0.377658, (built-in var()=0.377658)'"
      ],
      "text/markdown": [
       "'Variance=0.377658, (built-in var()=0.377658)'"
      ],
      "text/plain": [
       "[1] \"Variance=0.377658, (built-in var()=0.377658)\""
      ]
     },
     "metadata": {},
     "output_type": "display_data"
    },
    {
     "data": {
      "text/html": [
       "'Standard deviation=0.614539, (built-in sd() =0.614539)'"
      ],
      "text/latex": [
       "'Standard deviation=0.614539, (built-in sd() =0.614539)'"
      ],
      "text/markdown": [
       "'Standard deviation=0.614539, (built-in sd() =0.614539)'"
      ],
      "text/plain": [
       "[1] \"Standard deviation=0.614539, (built-in sd() =0.614539)\""
      ]
     },
     "metadata": {},
     "output_type": "display_data"
    }
   ],
   "source": [
    "sprintf('Sum of differences=%f', sum(sample_1 - mean_sample))\n",
    "sprintf('Sum of squared differences=%f', sum((sample_1 - mean_sample)^2))\n",
    "sprintf('Variance=%f, (built-in var()=%f)', sum((sample_1 - mean_sample)^2) / (length(sample_1) - 1), var(sample_1))\n",
    "sprintf('Standard deviation=%f, (built-in sd() =%f)', sqrt(sum((sample_1 - mean_sample)^2) / (length(sample_1) - 1)), sd(sample_1))\n"
   ]
  },
  {
   "cell_type": "markdown",
   "metadata": {},
   "source": [
    "<div class='alert alert-danger'>\n",
    "What is the maximal ratio between the standard deviation and the mean that allows us to claim that the mean is a 'good fit' for the observed data ? (The ratio is know as <b>Coefficient of Variation</b> and makes sense to compute only for Ratio variables)\n",
    "</div>"
   ]
  }
 ],
 "metadata": {
  "kernelspec": {
   "display_name": "R",
   "language": "R",
   "name": "ir"
  },
  "language_info": {
   "codemirror_mode": "r",
   "file_extension": ".r",
   "mimetype": "text/x-r-source",
   "name": "R",
   "pygments_lexer": "r",
   "version": "3.5.3"
  }
 },
 "nbformat": 4,
 "nbformat_minor": 2
}
